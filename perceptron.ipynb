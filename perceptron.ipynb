{
 "cells": [
  {
   "cell_type": "code",
   "execution_count": 1,
   "id": "bca08c00",
   "metadata": {},
   "outputs": [],
   "source": [
    "from sklearn.datasets import make_blobs\n",
    "from sklearn.model_selection import train_test_split\n",
    "from sklearn.metrics import accuracy_score\n",
    "\n",
    "import numpy as np\n",
    "import matplotlib.pyplot as plt\n",
    "\n",
    "np.random.seed(123)"
   ]
  },
  {
   "cell_type": "markdown",
   "id": "7960f6ab",
   "metadata": {},
   "source": [
    "https://sebastianraschka.com/Articles/2015_singlelayer_neurons.html"
   ]
  },
  {
   "cell_type": "code",
   "execution_count": 14,
   "id": "acf82b7e",
   "metadata": {},
   "outputs": [],
   "source": [
    "class Perpception:\n",
    "    \n",
    "    def __init__(self, lr = 0.01, n_iters = 1000):\n",
    "        self.lr = lr\n",
    "        self.n_iters = n_iters\n",
    "        self.weights = None\n",
    "        self.bias = None\n",
    "        \n",
    "        \n",
    "    def fit(self, X, y):\n",
    "        n_samples, n_features = X.shape\n",
    "        \n",
    "        #init\n",
    "        self.weights = np.zeros(n_features)# (n_features, )\n",
    "        self.bias = 0        \n",
    "        \n",
    "        \n",
    "        y_ = np.array([1 if i > 0  else 0 for i in y])\n",
    "        \n",
    "        for _ in range(self.n_iters):\n",
    "            \n",
    "            for index, x_i in enumerate(X):\n",
    "                \n",
    "                linear = np.dot(x_i , self.weights)  + self.bias # x*W.T + b   \n",
    "                y_pred = self.activation_function(linear)\n",
    "                \n",
    "                #update\n",
    "                update = self.lr * (y_[index]  - y_pred)\n",
    "                \n",
    "                self.weights += update * x_i\n",
    "                self.bias = update\n",
    "                \n",
    "                \n",
    "                \n",
    "    def predict(self, X):\n",
    "        linear = np.dot(X, self.weights) + self.bias\n",
    "        y_pred = self.activation_function(linear)\n",
    "        return  y_pred\n",
    "        \n",
    "    def activation_function(self, X):\n",
    "        return np.where(X>= 1 , 1, 0)\n",
    "        "
   ]
  },
  {
   "cell_type": "code",
   "execution_count": 8,
   "id": "85828803",
   "metadata": {},
   "outputs": [],
   "source": [
    "X, y = make_blobs(n_samples=300, n_features=4, centers= 2, cluster_std=1.05, random_state=42)"
   ]
  },
  {
   "cell_type": "code",
   "execution_count": 9,
   "id": "748b55ba",
   "metadata": {},
   "outputs": [],
   "source": [
    "X_train, X_test, y_train, y_test = train_test_split(X,y , test_size=0.2, random_state=42)"
   ]
  },
  {
   "cell_type": "code",
   "execution_count": 15,
   "id": "4076e4ff",
   "metadata": {},
   "outputs": [],
   "source": [
    "#train\n",
    "model = Perpception()"
   ]
  },
  {
   "cell_type": "code",
   "execution_count": 16,
   "id": "3d5f6da9",
   "metadata": {},
   "outputs": [],
   "source": [
    "model.fit(X_train, y_train)"
   ]
  },
  {
   "cell_type": "code",
   "execution_count": 17,
   "id": "a777b283",
   "metadata": {},
   "outputs": [],
   "source": [
    "y_pred = model.predict(X_test)"
   ]
  },
  {
   "cell_type": "code",
   "execution_count": 18,
   "id": "2aec3a80",
   "metadata": {},
   "outputs": [],
   "source": [
    "acc = accuracy_score(y_test, y_pred)"
   ]
  },
  {
   "cell_type": "code",
   "execution_count": 20,
   "id": "949a80bf",
   "metadata": {},
   "outputs": [
    {
     "name": "stdout",
     "output_type": "stream",
     "text": [
      "Acc: %100.0\n"
     ]
    }
   ],
   "source": [
    "print(f\"Acc: %{acc * 100}\")"
   ]
  }
 ],
 "metadata": {
  "kernelspec": {
   "display_name": "Python 3 (ipykernel)",
   "language": "python",
   "name": "python3"
  },
  "language_info": {
   "codemirror_mode": {
    "name": "ipython",
    "version": 3
   },
   "file_extension": ".py",
   "mimetype": "text/x-python",
   "name": "python",
   "nbconvert_exporter": "python",
   "pygments_lexer": "ipython3",
   "version": "3.9.7"
  }
 },
 "nbformat": 4,
 "nbformat_minor": 5
}
