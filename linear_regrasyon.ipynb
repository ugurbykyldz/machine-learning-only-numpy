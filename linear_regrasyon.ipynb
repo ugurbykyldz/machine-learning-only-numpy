{
 "cells": [
  {
   "cell_type": "code",
   "execution_count": 10,
   "id": "06763514",
   "metadata": {},
   "outputs": [],
   "source": [
    "from sklearn.model_selection import train_test_split\n",
    "from sklearn import datasets\n",
    "\n",
    "import numpy as np\n",
    "import pandas as pd\n",
    "import matplotlib.pyplot as plt\n",
    "\n",
    "\n",
    "np.random.seed(123)"
   ]
  },
  {
   "cell_type": "code",
   "execution_count": 30,
   "id": "5b01b3a4",
   "metadata": {},
   "outputs": [],
   "source": [
    "class LinearRegression:\n",
    "    \n",
    "    def __init__(self, lr = 0.001, n_iters = 1000):\n",
    "        \n",
    "        self.lr = lr\n",
    "        self.n_iters = n_iters\n",
    "        \n",
    "        self.weight = None\n",
    "        self.bias = None\n",
    "        \n",
    "    def fit(self, X, y):\n",
    "        # y = w*X + b\n",
    "        n_samples, n_features = X.shape\n",
    "        \n",
    "        self.weight = np.zeros(n_features)\n",
    "        self.bias = 0\n",
    "        \n",
    "        \n",
    "        #gradient descent\n",
    "        \n",
    "        for e in range(self.n_iters):\n",
    "            \n",
    "            y_pred = np.dot(X, self.weight) + self.bias #(n_samples, n_features) *(n_features) + 0 = (n_samples)\n",
    "            \n",
    "            #compute gradient\n",
    "            #loss(MSE) = (1/N)*(y_pred(w*X + b) - y_true)**2\n",
    "            \n",
    "            dw = (1/n_samples) * np.dot(X.T, (y_pred - y)) # X.T * (y^-y) => (n_features,n_samples)*(n_samples)\n",
    "            db = (1/n_samples) * np.sum(y_pred - y)\n",
    "            \n",
    "            #update\n",
    "            self.weight -= self.lr * dw # w := w - lr* dLoss/dw\n",
    "            self.bias -= self.lr * db \n",
    "            \n",
    "    def predict(self, X):\n",
    "        y_pred = np.dot(X, self.weight) + self.bias\n",
    "        return y_pred\n",
    "                  "
   ]
  },
  {
   "cell_type": "code",
   "execution_count": 38,
   "id": "8c5a4446",
   "metadata": {},
   "outputs": [],
   "source": [
    "def mse(y_true, y_pred):\n",
    "    return np.mean((y_pred - y_true)**2)"
   ]
  },
  {
   "cell_type": "code",
   "execution_count": 52,
   "id": "5286a5bc",
   "metadata": {},
   "outputs": [
    {
     "name": "stdout",
     "output_type": "stream",
     "text": [
      "(200, 1) , (200,)\n"
     ]
    }
   ],
   "source": [
    "X, y = datasets.make_regression(n_samples = 200, n_features = 1, n_targets=1,  noise = 25, random_state=42)\n",
    "\n",
    "print(f\"{X.shape} , {y.shape}\")"
   ]
  },
  {
   "cell_type": "code",
   "execution_count": 53,
   "id": "b7858b63",
   "metadata": {},
   "outputs": [
    {
     "data": {
      "image/png": "[encoded data removed]",
      "text/plain": [
       "<Figure size 432x288 with 1 Axes>"
      ]
     },
     "metadata": {
      "needs_background": "light"
     },
     "output_type": "display_data"
    }
   ],
   "source": [
    "plt.figure()\n",
    "plt.scatter(X, y, color = \"red\")\n",
    "plt.show()\n"
   ]
  },
  {
   "cell_type": "code",
   "execution_count": 54,
   "id": "68724d41",
   "metadata": {},
   "outputs": [],
   "source": [
    "X_train, X_test, y_train, y_test = train_test_split(X, y, test_size=0.2, random_state=42)"
   ]
  },
  {
   "cell_type": "code",
   "execution_count": 55,
   "id": "da38eaa3",
   "metadata": {},
   "outputs": [],
   "source": [
    "learning_rate = 0.01\n",
    "linearRegrresion = LinearRegression(lr = learning_rate)"
   ]
  },
  {
   "cell_type": "code",
   "execution_count": 56,
   "id": "c3e21ef5",
   "metadata": {},
   "outputs": [],
   "source": [
    "linearRegrresion.fit(X_train,y_train)"
   ]
  },
  {
   "cell_type": "code",
   "execution_count": 57,
   "id": "dbe2b153",
   "metadata": {},
   "outputs": [],
   "source": [
    "y_pred = linearRegrresion.predict(X_test)"
   ]
  },
  {
   "cell_type": "code",
   "execution_count": 60,
   "id": "3cea9123",
   "metadata": {},
   "outputs": [
    {
     "name": "stdout",
     "output_type": "stream",
     "text": [
      "MSE : 683.7755336183045\n"
     ]
    }
   ],
   "source": [
    "print(f\"MSE : {mse(y_test, y_pred)}\")"
   ]
  },
  {
   "cell_type": "code",
   "execution_count": 61,
   "id": "5c5ac64f",
   "metadata": {},
   "outputs": [
    {
     "data": {
      "image/png": "[encoded data removed]",
      "text/plain": [
       "<Figure size 432x288 with 1 Axes>"
      ]
     },
     "metadata": {
      "needs_background": "light"
     },
     "output_type": "display_data"
    }
   ],
   "source": [
    "plt.figure()\n",
    "plt.scatter(X_test, y_test, color = \"r\", label = \"Real\")\n",
    "plt.plot(X_test, y_pred, color = \"blue\", label = \"Pred\")\n",
    "plt.legend()\n",
    "plt.show()\n"
   ]
  }
 ],
 "metadata": {
  "kernelspec": {
   "display_name": "Python 3",
   "language": "python",
   "name": "python3"
  },
  "language_info": {
   "codemirror_mode": {
    "name": "ipython",
    "version": 3
   },
   "file_extension": ".py",
   "mimetype": "text/x-python",
   "name": "python",
   "nbconvert_exporter": "python",
   "pygments_lexer": "ipython3",
   "version": "3.8.8"
  }
 },
 "nbformat": 4,
 "nbformat_minor": 5
}
